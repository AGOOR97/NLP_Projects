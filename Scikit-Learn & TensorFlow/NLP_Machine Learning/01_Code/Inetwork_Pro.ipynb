{
 "cells": [
  {
   "cell_type": "markdown",
   "id": "7ec7c283",
   "metadata": {},
   "source": [
    "### My Video on General Steps to run API\n",
    "https://www.youtube.com/watch?v=KsU01Kfpejg"
   ]
  },
  {
   "cell_type": "markdown",
   "id": "1d402960",
   "metadata": {},
   "source": [
    "## Welcome !"
   ]
  },
  {
   "cell_type": "code",
   "execution_count": 1,
   "id": "220d6d64",
   "metadata": {},
   "outputs": [],
   "source": [
    "## Most Important\n",
    "import numpy as np\n",
    "import pandas as pd\n",
    "import matplotlib.pyplot as plt\n",
    "%matplotlib inline\n",
    "import seaborn as sns\n",
    "\n",
    "## Less Important\n",
    "import missingno as msno\n",
    "from scipy import stats\n",
    "import joblib\n",
    "import os\n",
    "\n",
    "## Sklearn\n",
    "from sklearn import utils\n",
    "\n",
    "## Preprocessig\n",
    "from sklearn.model_selection import train_test_split, StratifiedShuffleSplit\n",
    "from sklearn.model_selection import cross_val_score, cross_val_predict\n",
    "from sklearn.feature_extraction.text import TfidfVectorizer\n",
    "from sklearn.model_selection import GridSearchCV\n",
    "\n",
    "## Algorithms\n",
    "import xgboost as xgb\n",
    "from sklearn.naive_bayes import MultinomialNB\n",
    "from sklearn.svm import LinearSVC\n",
    "from sklearn.linear_model import LogisticRegression\n",
    "from sklearn.ensemble import RandomForestClassifier"
   ]
  },
  {
   "cell_type": "markdown",
   "id": "43b95da1",
   "metadata": {},
   "source": [
    "### Loading the Data and Look at the big Picture"
   ]
  },
  {
   "cell_type": "code",
   "execution_count": 2,
   "id": "685caa10",
   "metadata": {},
   "outputs": [
    {
     "data": {
      "text/html": [
       "<div>\n",
       "<style scoped>\n",
       "    .dataframe tbody tr th:only-of-type {\n",
       "        vertical-align: middle;\n",
       "    }\n",
       "\n",
       "    .dataframe tbody tr th {\n",
       "        vertical-align: top;\n",
       "    }\n",
       "\n",
       "    .dataframe thead th {\n",
       "        text-align: right;\n",
       "    }\n",
       "</style>\n",
       "<table border=\"1\" class=\"dataframe\">\n",
       "  <thead>\n",
       "    <tr style=\"text-align: right;\">\n",
       "      <th></th>\n",
       "      <th>job title</th>\n",
       "      <th>industry</th>\n",
       "    </tr>\n",
       "  </thead>\n",
       "  <tbody>\n",
       "    <tr>\n",
       "      <th>0</th>\n",
       "      <td>technical support and helpdesk supervisor - co...</td>\n",
       "      <td>IT</td>\n",
       "    </tr>\n",
       "    <tr>\n",
       "      <th>1</th>\n",
       "      <td>senior technical support engineer</td>\n",
       "      <td>IT</td>\n",
       "    </tr>\n",
       "    <tr>\n",
       "      <th>2</th>\n",
       "      <td>head of it services</td>\n",
       "      <td>IT</td>\n",
       "    </tr>\n",
       "    <tr>\n",
       "      <th>3</th>\n",
       "      <td>js front end engineer</td>\n",
       "      <td>IT</td>\n",
       "    </tr>\n",
       "    <tr>\n",
       "      <th>4</th>\n",
       "      <td>network and telephony controller</td>\n",
       "      <td>IT</td>\n",
       "    </tr>\n",
       "  </tbody>\n",
       "</table>\n",
       "</div>"
      ],
      "text/plain": [
       "                                           job title industry\n",
       "0  technical support and helpdesk supervisor - co...       IT\n",
       "1                  senior technical support engineer       IT\n",
       "2                                head of it services       IT\n",
       "3                              js front end engineer       IT\n",
       "4                   network and telephony controller       IT"
      ]
     },
     "execution_count": 2,
     "metadata": {},
     "output_type": "execute_result"
    }
   ],
   "source": [
    "## load the CSV file\n",
    "df_data = pd.read_csv('Job titles and industries.csv')\n",
    "df_data.head()"
   ]
  },
  {
   "cell_type": "markdown",
   "id": "88af9a87",
   "metadata": {},
   "source": [
    "### Cleaning"
   ]
  },
  {
   "cell_type": "code",
   "execution_count": 3,
   "id": "3c1c54b9",
   "metadata": {},
   "outputs": [
    {
     "name": "stdout",
     "output_type": "stream",
     "text": [
      "<class 'pandas.core.frame.DataFrame'>\n",
      "RangeIndex: 8586 entries, 0 to 8585\n",
      "Data columns (total 2 columns):\n",
      " #   Column     Non-Null Count  Dtype \n",
      "---  ------     --------------  ----- \n",
      " 0   job title  8586 non-null   object\n",
      " 1   industry   8586 non-null   object\n",
      "dtypes: object(2)\n",
      "memory usage: 134.3+ KB\n"
     ]
    }
   ],
   "source": [
    "## test if there is null values and look at the datatypes\n",
    "df_data.info()"
   ]
  },
  {
   "cell_type": "code",
   "execution_count": 4,
   "id": "cbec1da2",
   "metadata": {},
   "outputs": [
    {
     "data": {
      "text/html": [
       "<div>\n",
       "<style scoped>\n",
       "    .dataframe tbody tr th:only-of-type {\n",
       "        vertical-align: middle;\n",
       "    }\n",
       "\n",
       "    .dataframe tbody tr th {\n",
       "        vertical-align: top;\n",
       "    }\n",
       "\n",
       "    .dataframe thead th {\n",
       "        text-align: right;\n",
       "    }\n",
       "</style>\n",
       "<table border=\"1\" class=\"dataframe\">\n",
       "  <thead>\n",
       "    <tr style=\"text-align: right;\">\n",
       "      <th></th>\n",
       "      <th>job title</th>\n",
       "      <th>industry</th>\n",
       "    </tr>\n",
       "  </thead>\n",
       "  <tbody>\n",
       "    <tr>\n",
       "      <th>count</th>\n",
       "      <td>8586</td>\n",
       "      <td>8586</td>\n",
       "    </tr>\n",
       "    <tr>\n",
       "      <th>unique</th>\n",
       "      <td>3890</td>\n",
       "      <td>4</td>\n",
       "    </tr>\n",
       "    <tr>\n",
       "      <th>top</th>\n",
       "      <td>marketing executive</td>\n",
       "      <td>IT</td>\n",
       "    </tr>\n",
       "    <tr>\n",
       "      <th>freq</th>\n",
       "      <td>91</td>\n",
       "      <td>4746</td>\n",
       "    </tr>\n",
       "  </tbody>\n",
       "</table>\n",
       "</div>"
      ],
      "text/plain": [
       "                  job title industry\n",
       "count                  8586     8586\n",
       "unique                 3890        4\n",
       "top     marketing executive       IT\n",
       "freq                     91     4746"
      ]
     },
     "execution_count": 4,
     "metadata": {},
     "output_type": "execute_result"
    }
   ],
   "source": [
    "df_data.describe() ## describe the data"
   ]
  },
  {
   "cell_type": "code",
   "execution_count": 5,
   "id": "a94c1eb4",
   "metadata": {},
   "outputs": [
    {
     "data": {
      "text/plain": [
       "marketing executive                                           91\n",
       "php developer                                                 54\n",
       "trainee network technician                                    53\n",
       "software developer                                            53\n",
       "marketing manager                                             49\n",
       "                                                              ..\n",
       "digital designer - ux/ui                                       1\n",
       "digital marketing executive - restaurant chain                 1\n",
       "marketing and creative manager - salary circa £50k - poole     1\n",
       "data analyst, sql, ecommerce, central london - £45k            1\n",
       "creative copywriter (arabic/english)                           1\n",
       "Name: job title, Length: 3890, dtype: int64"
      ]
     },
     "execution_count": 5,
     "metadata": {},
     "output_type": "execute_result"
    }
   ],
   "source": [
    "df_data['job title'].value_counts()"
   ]
  },
  {
   "cell_type": "code",
   "execution_count": 6,
   "id": "5eabff30",
   "metadata": {},
   "outputs": [
    {
     "data": {
      "image/png": "[encoded data removed]",
      "text/plain": [
       "<Figure size 1800x720 with 2 Axes>"
      ]
     },
     "metadata": {
      "needs_background": "light"
     },
     "output_type": "display_data"
    }
   ],
   "source": [
    "msno.matrix(df_data);  ## check again  ==> seems Good"
   ]
  },
  {
   "cell_type": "markdown",
   "id": "8d3dbcfc",
   "metadata": {},
   "source": [
    "### EDA and Preprocessing"
   ]
  },
  {
   "cell_type": "code",
   "execution_count": 7,
   "id": "cf0e32d5",
   "metadata": {},
   "outputs": [
    {
     "data": {
      "image/png": "[encoded data removed]",
      "text/plain": [
       "<Figure size 576x288 with 1 Axes>"
      ]
     },
     "metadata": {
      "needs_background": "light"
     },
     "output_type": "display_data"
    }
   ],
   "source": [
    "## look at the countplot of target\n",
    "plt.figure(figsize=(8, 4))\n",
    "sns.countplot(x='industry', data=df_data);    ## implance output"
   ]
  },
  {
   "cell_type": "markdown",
   "id": "6c88b5fd",
   "metadata": {},
   "source": [
    "### Split the data Using StratifiedShuffleSplit"
   ]
  },
  {
   "cell_type": "code",
   "execution_count": 8,
   "id": "820f7c3b",
   "metadata": {},
   "outputs": [],
   "source": [
    "## split the data for train_full & test\n",
    "split_data_all = StratifiedShuffleSplit(n_splits=1, test_size=0.2, random_state=42)\n",
    "gen_split_all = split_data_all.split(df_data, df_data['industry'])\n",
    "## loop over the generator\n",
    "for train_full_idx, test_full_idx in gen_split_all:\n",
    "    train_set_full = df_data.iloc[train_full_idx]\n",
    "    test_set = df_data.iloc[test_full_idx]\n",
    "\n",
    "\n",
    "## split the data for train and Validation \n",
    "split_train = StratifiedShuffleSplit(n_splits=1, test_size=0.2, random_state=123)\n",
    "gen_split_train = split_train.split(train_set_full, train_set_full['industry'])\n",
    "## loop over the generator\n",
    "for train_idx, val_idx in gen_split_train:\n",
    "    train_set = train_set_full.iloc[train_idx]\n",
    "    val_set = train_set_full.iloc[val_idx]"
   ]
  },
  {
   "cell_type": "code",
   "execution_count": 9,
   "id": "281834db",
   "metadata": {},
   "outputs": [
    {
     "name": "stdout",
     "output_type": "stream",
     "text": [
      "df_data total shape => (8586, 2)\n",
      "==============================\n",
      "train_set_full shape => (6868, 2)\n",
      "==============================\n",
      "train_set shape => (5494, 2)\n",
      "==============================\n",
      "val_set shape => (1374, 2)\n",
      "==============================\n",
      "test_set shape => (1718, 2)\n"
     ]
    }
   ],
   "source": [
    "## check\n",
    "print('df_data total shape =>', df_data.shape)\n",
    "print('=='*15)\n",
    "print('train_set_full shape =>', train_set_full.shape)\n",
    "print('=='*15)\n",
    "print('train_set shape =>', train_set.shape)\n",
    "print('=='*15)\n",
    "print('val_set shape =>', val_set.shape)\n",
    "print('=='*15)\n",
    "print('test_set shape =>', test_set.shape)"
   ]
  },
  {
   "cell_type": "code",
   "execution_count": 10,
   "id": "4a5a1b9b",
   "metadata": {},
   "outputs": [
    {
     "data": {
      "image/png": "[encoded data removed]",
      "text/plain": [
       "<Figure size 1152x360 with 3 Axes>"
      ]
     },
     "metadata": {
      "needs_background": "light"
     },
     "output_type": "display_data"
    }
   ],
   "source": [
    "## check my work \n",
    "fig, ax = plt.subplots(1, 3, figsize=(16, 5))\n",
    "\n",
    "plt.sca(ax[0])\n",
    "sns.countplot(x='industry', data=train_set, order=train_set['industry'].value_counts().index)\n",
    "plt.title('train_set')\n",
    "\n",
    "plt.sca(ax[1])\n",
    "sns.countplot(x='industry', data=val_set, order=val_set['industry'].value_counts().index)\n",
    "plt.title('val_set')\n",
    "\n",
    "plt.sca(ax[2])\n",
    "sns.countplot(x='industry', data=test_set, order=test_set['industry'].value_counts().index)\n",
    "plt.title('test_set')\n",
    "   \n",
    "plt.show()    ## Seems Exact what i want"
   ]
  },
  {
   "cell_type": "markdown",
   "id": "c9592e1d",
   "metadata": {},
   "source": [
    "### Preprocessing"
   ]
  },
  {
   "cell_type": "code",
   "execution_count": 11,
   "id": "8024f4e0",
   "metadata": {},
   "outputs": [],
   "source": [
    "## separate Feature and Label\n",
    "X_train = train_set['job title']\n",
    "y_train = train_set['industry']\n",
    "\n",
    "X_val = val_set['job title']\n",
    "y_val = val_set['industry']\n",
    "\n",
    "X_test = test_set['job title']\n",
    "y_test = test_set['industry']\n",
    "\n",
    "## CountVectorizer for (train, val, test)\n",
    "vect = TfidfVectorizer()\n",
    "X_train_final = vect.fit_transform(X_train)\n",
    "X_val_final = vect.transform(X_val)\n",
    "X_test_final = vect.transform(X_test)"
   ]
  },
  {
   "cell_type": "code",
   "execution_count": 12,
   "id": "06c18836",
   "metadata": {},
   "outputs": [
    {
     "data": {
      "text/plain": [
       "<5494x1700 sparse matrix of type '<class 'numpy.float64'>'\n",
       "\twith 20551 stored elements in Compressed Sparse Row format>"
      ]
     },
     "execution_count": 12,
     "metadata": {},
     "output_type": "execute_result"
    }
   ],
   "source": [
    "X_train_final"
   ]
  },
  {
   "cell_type": "markdown",
   "id": "6ab8c48a",
   "metadata": {},
   "source": [
    "### Model Training \n",
    "#### `I will choose (Accuracy) as my Metric`"
   ]
  },
  {
   "cell_type": "code",
   "execution_count": 13,
   "id": "27df4fb8",
   "metadata": {},
   "outputs": [
    {
     "data": {
      "text/plain": [
       "{'IT': 0.447215143793229,\n",
       " 'Marketing': 0.7633782307972333,\n",
       " 'Education': 0.8329086275937386,\n",
       " 'Accountancy': 0.956497997815799}"
      ]
     },
     "execution_count": 13,
     "metadata": {},
     "output_type": "execute_result"
    }
   ],
   "source": [
    "## solve the proplem of imbalanced data\n",
    "my_weights = 1 - y_train.value_counts(normalize=True)\n",
    "## create the dict\n",
    "my_class_weights = {'IT':my_weights[0], 'Marketing':my_weights[1], \n",
    "                    'Education':my_weights[2], 'Accountancy':my_weights[3]}\n",
    "\n",
    "my_class_weights"
   ]
  },
  {
   "cell_type": "markdown",
   "id": "5de8d7a5",
   "metadata": {},
   "source": [
    "`Screen from (Hands on ML)`"
   ]
  },
  {
   "attachments": {
    "screen.png": {
     "image/png": "[encoded data removed]"
    }
   },
   "cell_type": "markdown",
   "id": "b6e9547b",
   "metadata": {},
   "source": [
    "![screen.png](attachment:screen.png)"
   ]
  },
  {
   "cell_type": "markdown",
   "id": "945d5af0",
   "metadata": {},
   "source": [
    "##### `try MultinomialNB`"
   ]
  },
  {
   "cell_type": "code",
   "execution_count": 14,
   "id": "7839413f",
   "metadata": {},
   "outputs": [
    {
     "name": "stdout",
     "output_type": "stream",
     "text": [
      "train_acc_naive => 0.9359301055697125\n",
      "\n",
      "val_acc_naive => 0.8995633187772926\n"
     ]
    }
   ],
   "source": [
    "## Define alg\n",
    "naive_clf = MultinomialNB()\n",
    "naive_clf.fit(X_train_final, y_train)\n",
    "\n",
    "## predict for training set\n",
    "pred_train_naive = naive_clf.predict(X_train_final)\n",
    "\n",
    "## predict for validation set\n",
    "pred_val_naive = naive_clf.predict(X_val_final)\n",
    "\n",
    "###################### check Accuracy\n",
    "## for training\n",
    "train_acc_naive = sum(y_train==pred_train_naive)/len(pred_train_naive)\n",
    "print('train_acc_naive =>', train_acc_naive)\n",
    "\n",
    "print()\n",
    "## for validation\n",
    "val_acc_naive = sum(y_val==pred_val_naive)/len(pred_val_naive)\n",
    "print('val_acc_naive =>', val_acc_naive)\n",
    "\n",
    "### seems Good! Not Bad"
   ]
  },
  {
   "cell_type": "markdown",
   "id": "87bc09b3",
   "metadata": {},
   "source": [
    "##### `try Logistic Regression`"
   ]
  },
  {
   "cell_type": "code",
   "execution_count": 15,
   "id": "bde8f4a6",
   "metadata": {},
   "outputs": [
    {
     "name": "stdout",
     "output_type": "stream",
     "text": [
      "train_acc_logist => 0.9526756461594467\n",
      "\n",
      "val_acc_logist => 0.9206695778748181\n"
     ]
    }
   ],
   "source": [
    "## Define alg\n",
    "logist_clf = LogisticRegression(penalty='l2', class_weight=my_class_weights, random_state=42)\n",
    "logist_clf.fit(X_train_final, y_train)\n",
    "\n",
    "## predict for training set\n",
    "pred_train_logist = logist_clf.predict(X_train_final)\n",
    "\n",
    "## predict for validation set\n",
    "pred_val_logist = logist_clf.predict(X_val_final)\n",
    "\n",
    "###################### check Accuracy\n",
    "## for training\n",
    "train_acc_logist = sum(y_train==pred_train_logist)/len(pred_train_logist)\n",
    "print('train_acc_logist =>', train_acc_logist)\n",
    "\n",
    "print()\n",
    "## for validation\n",
    "val_acc_logist = sum(y_val==pred_val_logist)/len(pred_val_logist)\n",
    "print('val_acc_logist =>', val_acc_logist)   ## High Accuracy "
   ]
  },
  {
   "cell_type": "markdown",
   "id": "1176575b",
   "metadata": {},
   "source": [
    "##### `try RandomForest`"
   ]
  },
  {
   "cell_type": "code",
   "execution_count": 16,
   "id": "155ee887",
   "metadata": {},
   "outputs": [
    {
     "name": "stdout",
     "output_type": "stream",
     "text": [
      "train_acc_forest => 0.9166363305424099\n",
      "\n",
      "val_acc_forest => 0.8791848617176128\n"
     ]
    }
   ],
   "source": [
    "## Define alg\n",
    "forest_clf = RandomForestClassifier(n_estimators=400, max_depth=25, \n",
    "                                    class_weight=my_class_weights, random_state=42, )  ## initial\n",
    "forest_clf.fit(X_train_final, y_train)\n",
    "\n",
    "## predict for training set\n",
    "pred_train_forest = forest_clf.predict(X_train_final)\n",
    "\n",
    "## predict for validation set\n",
    "pred_val_forest = forest_clf.predict(X_val_final)\n",
    "\n",
    "###################### check Accuracy\n",
    "## for training\n",
    "train_acc_forest = sum(y_train==pred_train_forest)/len(pred_train_forest)\n",
    "print('train_acc_forest =>', train_acc_forest)\n",
    "\n",
    "print()\n",
    "## for validation\n",
    "val_acc_forest = sum(y_val==pred_val_forest)/len(pred_val_forest)\n",
    "print('val_acc_forest =>', val_acc_forest)   \n",
    "## Need much Tuning "
   ]
  },
  {
   "cell_type": "markdown",
   "id": "bebccdd5",
   "metadata": {},
   "source": [
    "##### `try LinearSVC`"
   ]
  },
  {
   "cell_type": "code",
   "execution_count": 17,
   "id": "1c9b6cd6",
   "metadata": {},
   "outputs": [
    {
     "name": "stdout",
     "output_type": "stream",
     "text": [
      "train_acc_svc => 0.961412449945395\n",
      "\n",
      "val_acc_svc => 0.9301310043668122\n"
     ]
    }
   ],
   "source": [
    "## Define alg\n",
    "\n",
    "## I tuned and place the best params to rapid the code runing\n",
    "## after tuning C=1.0, loss='hinge'\n",
    "svc_clf = LinearSVC(loss='hinge', C=1, max_iter=100000, \n",
    "                    class_weight=my_class_weights, random_state=42)  \n",
    "svc_clf.fit(X_train_final, y_train)\n",
    "\n",
    "## predict for training set\n",
    "pred_train_svc = svc_clf.predict(X_train_final)\n",
    "\n",
    "## predict for validation set\n",
    "pred_val_svc = svc_clf.predict(X_val_final)\n",
    "\n",
    "###################### check Accuracy\n",
    "## for training\n",
    "train_acc_svc = sum(y_train==pred_train_svc)/len(pred_train_svc)\n",
    "print('train_acc_svc =>', train_acc_svc)\n",
    "\n",
    "print()\n",
    "## for validation\n",
    "val_acc_svc = sum(y_val==pred_val_svc)/len(pred_val_svc)\n",
    "print('val_acc_svc =>', val_acc_svc)  "
   ]
  },
  {
   "cell_type": "code",
   "execution_count": 18,
   "id": "c19b63e7",
   "metadata": {},
   "outputs": [],
   "source": [
    "### LinearSVC Tuning\n",
    "\n",
    "## Try Tuning by GridSearchCV , sequentially ==> i update the searching area\n",
    "# params_best_svc = {'C': np.arange(0.01, 5, 0.01),\n",
    "#                    'loss': ['hinge', 'squared_hinge']}\n",
    "\n",
    "# grid_svc = GridSearchCV(estimator=svc_clf, param_grid=params_best_svc, \n",
    "#                         cv=5, scoring='accuracy', n_jobs=-1)\n",
    "\n",
    "# grid_svc.fit(X_train_final, y_train)\n",
    "\n",
    "# grid_svc.best_params_"
   ]
  },
  {
   "cell_type": "markdown",
   "id": "ebef4ffb",
   "metadata": {},
   "source": [
    "##### `try Xgboost`"
   ]
  },
  {
   "cell_type": "code",
   "execution_count": 19,
   "id": "e056c655",
   "metadata": {},
   "outputs": [
    {
     "name": "stderr",
     "output_type": "stream",
     "text": [
      "C:\\Users\\moham\\anaconda3\\lib\\site-packages\\xgboost\\sklearn.py:1146: UserWarning: The use of label encoder in XGBClassifier is deprecated and will be removed in a future release. To remove this warning, do the following: 1) Pass option use_label_encoder=False when constructing XGBClassifier object; and 2) Encode your labels (y) as integers starting with 0, i.e. 0, 1, 2, ..., [num_class - 1].\n",
      "  warnings.warn(label_encoder_deprecation_msg, UserWarning)\n"
     ]
    },
    {
     "name": "stdout",
     "output_type": "stream",
     "text": [
      "[13:43:39] WARNING: C:/Users/Administrator/workspace/xgboost-win64_release_1.4.0/src/learner.cc:1095: Starting in XGBoost 1.3.0, the default evaluation metric used with the objective 'multi:softprob' was changed from 'merror' to 'mlogloss'. Explicitly set eval_metric if you'd like to restore the old behavior.\n",
      "train_acc_xgb => 0.9635966508918821\n",
      "\n",
      "val_acc_xgb => 0.9163027656477438\n"
     ]
    }
   ],
   "source": [
    "## Define alg\n",
    "xgb_clf = xgb.XGBClassifier(objective='multi:softmax')\n",
    "xgb_clf.fit(X_train_final, y_train)\n",
    "\n",
    "## predict for training set\n",
    "pred_train_xgb = xgb_clf.predict(X_train_final)\n",
    "\n",
    "## predict for validation set\n",
    "pred_val_xgb = xgb_clf.predict(X_val_final)\n",
    "\n",
    "###################### check Accuracy\n",
    "## for training\n",
    "train_acc_xgb = sum(y_train==pred_train_xgb)/len(pred_train_xgb)\n",
    "print('train_acc_xgb =>', train_acc_xgb)\n",
    "\n",
    "print()\n",
    "## for validation\n",
    "val_acc_xgb = sum(y_val==pred_val_xgb)/len(pred_val_xgb)\n",
    "print('val_acc_xgb =>', val_acc_xgb)  "
   ]
  },
  {
   "cell_type": "markdown",
   "id": "671d8de5",
   "metadata": {},
   "source": [
    "### I will use svc_clf (LinearSVC) ==> the Highest Accuracy and less Tuning"
   ]
  },
  {
   "cell_type": "markdown",
   "id": "c143d7a4",
   "metadata": {},
   "source": [
    "### Evaluation on test_set"
   ]
  },
  {
   "cell_type": "code",
   "execution_count": 20,
   "id": "4ae56803",
   "metadata": {},
   "outputs": [
    {
     "name": "stdout",
     "output_type": "stream",
     "text": [
      "MultinomialNB  ====> Accuracy = 0.9074505238649593\n",
      "===========================================================================\n",
      "LogisticRegression  ====> Accuracy = 0.9225844004656577\n",
      "===========================================================================\n",
      "RandomForestClassifier  ====> Accuracy = 0.8870779976717112\n",
      "===========================================================================\n",
      "LinearSVC  ====> Accuracy = 0.9324796274738067\n",
      "===========================================================================\n",
      "XGBClassifier  ====> Accuracy = 0.9179278230500582\n",
      "===========================================================================\n"
     ]
    }
   ],
   "source": [
    "best_models = [naive_clf, logist_clf, forest_clf, svc_clf, xgb_clf]\n",
    "\n",
    "for clf in best_models:\n",
    "\n",
    "    y_pred_each_clf = clf.predict(X_test_final)\n",
    "    acc_test_each_clf = sum(y_test==y_pred_each_clf)/len(y_pred_each_clf)\n",
    "    print(clf.__class__.__name__, \" ====>\", 'Accuracy =', acc_test_each_clf)\n",
    "    print('==='*25)  \n",
    "    \n",
    "### LinearSVC is theBest"
   ]
  },
  {
   "cell_type": "code",
   "execution_count": 21,
   "id": "e76f2de2",
   "metadata": {},
   "outputs": [
    {
     "data": {
      "text/plain": [
       "array(['IT', 'IT', 'IT', ..., 'IT', 'IT', 'Marketing'], dtype=object)"
      ]
     },
     "execution_count": 21,
     "metadata": {},
     "output_type": "execute_result"
    }
   ],
   "source": [
    "### final prediction over the test_set\n",
    "y_pred_test = svc_clf.predict(X_test_final)\n",
    "y_pred_test"
   ]
  },
  {
   "cell_type": "markdown",
   "id": "beee5188",
   "metadata": {},
   "source": [
    "### Save the Best Models"
   ]
  },
  {
   "cell_type": "code",
   "execution_count": 22,
   "id": "6d4aa746",
   "metadata": {},
   "outputs": [
    {
     "data": {
      "text/plain": [
       "['svc_clf.pkl']"
      ]
     },
     "execution_count": 22,
     "metadata": {},
     "output_type": "execute_result"
    }
   ],
   "source": [
    "joblib.dump(svc_clf, 'svc_clf.pkl')"
   ]
  },
  {
   "cell_type": "markdown",
   "id": "e4106ebe",
   "metadata": {},
   "source": [
    "### In case of New Instances on API"
   ]
  },
  {
   "cell_type": "code",
   "execution_count": 23,
   "id": "d5e326a0",
   "metadata": {},
   "outputs": [],
   "source": [
    "## this function is made only for API , \n",
    "## so when a new instance is entered it passes through the same process steps\n",
    "def vectorize_new_instance(X_new):\n",
    "    ''' this function tries to get the required input to the Model\n",
    "    Args:\n",
    "    *****\n",
    "        (X_new : 1D array of String) ==> the required instance to predict\n",
    "    '''\n",
    "    X_new_final = vect.transform(X_new)\n",
    "\n",
    "    return X_new_final"
   ]
  },
  {
   "cell_type": "markdown",
   "id": "346f8d05",
   "metadata": {},
   "source": [
    "## Resources\n",
    "\n",
    "##### `Books `\n",
    "1. Hands on ML  (by Aurilien Geron)\n",
    "2. Deep Learning with Python (by Francois Chollet 'Autour of Keras')\n",
    "\n",
    "##### `Links `\n",
    "vectorize TrobleShoot  <br />\n",
    "https://datascience.stackexchange.com/questions/30620/python-sklearn-tfidfvectorizer-feature-not-matching-delete\n",
    "\n",
    "##### `Flask API `\n",
    "\n",
    "1. https://github.com/krishnaik06/Deployment-flask.git\n",
    "\n",
    "2. https://www.youtube.com/watch?v=UbCWoMf80PY\n",
    "\n",
    "3. https://www.youtube.com/watch?v=MxJnR1DMmsY"
   ]
  },
  {
   "cell_type": "markdown",
   "id": "39325f2b",
   "metadata": {},
   "source": [
    "## By / Mohammed Agoor \n",
    "\n",
    "Sunday `19/9/2021`"
   ]
  },
  {
   "cell_type": "code",
   "execution_count": null,
   "id": "8c431abe",
   "metadata": {},
   "outputs": [],
   "source": []
  },
  {
   "cell_type": "code",
   "execution_count": null,
   "id": "49c187f7",
   "metadata": {},
   "outputs": [],
   "source": []
  }
 ],
 "metadata": {
  "kernelspec": {
   "display_name": "Python 3 (ipykernel)",
   "language": "python",
   "name": "python3"
  },
  "language_info": {
   "codemirror_mode": {
    "name": "ipython",
    "version": 3
   },
   "file_extension": ".py",
   "mimetype": "text/x-python",
   "name": "python",
   "nbconvert_exporter": "python",
   "pygments_lexer": "ipython3",
   "version": "3.8.8"
  }
 },
 "nbformat": 4,
 "nbformat_minor": 5
}
